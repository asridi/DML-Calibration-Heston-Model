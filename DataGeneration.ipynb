{
  "cells": [
    {
      "cell_type": "markdown",
      "source": [
        "## About\n",
        "\n",
        "*In this notebook, we implement the Heston pricer, the different differentials of the normalised forward put price w.r.t inputs as well as the generator used to build the datasets utilised to train, validate, and test the neural networks.*\n",
        "\n",
        "---\n",
        "**Date: September 2022**  \n",
        "\n",
        "**Author:** Abir Sridi ([Imperial College](https://www.imperial.ac.uk) | [MSc AI](https://www.imperial.ac.uk/study/pg/computing/artificial-intelligence/))\n",
        "\n",
        "\n",
        "**Contact:** a.sridi@imperial.ac.uk"
      ],
      "metadata": {
        "id": "Zx6MQZPC-l-_"
      }
    },
    {
      "cell_type": "markdown",
      "metadata": {
        "id": "MfEIZZqFIKjQ"
      },
      "source": [
        "# <strong> 1. Prerequisites</strong>"
      ]
    },
    {
      "cell_type": "markdown",
      "metadata": {
        "id": "AYKFidBlNmo0"
      },
      "source": [
        "## <Strong><font color='green'>1.1. Imports</font></Strong>: Python packages needed"
      ]
    },
    {
      "cell_type": "code",
      "execution_count": null,
      "metadata": {
        "colab": {
          "base_uri": "https://localhost:8080/",
          "height": 1000
        },
        "id": "ZdwCSNuk57jJ",
        "outputId": "bb7be491-db7c-4002-faa4-8e29a4ff7c3a"
      },
      "outputs": [
        {
          "output_type": "stream",
          "name": "stdout",
          "text": [
            "Looking in indexes: https://pypi.org/simple, https://us-python.pkg.dev/colab-wheels/public/simple/\n",
            "Collecting scipy==1.7\n",
            "  Downloading scipy-1.7.0-cp37-cp37m-manylinux_2_5_x86_64.manylinux1_x86_64.whl (28.5 MB)\n",
            "\u001b[K     |████████████████████████████████| 28.5 MB 1.4 MB/s \n",
            "\u001b[?25hRequirement already satisfied: numpy<1.23.0,>=1.16.5 in /usr/local/lib/python3.7/dist-packages (from scipy==1.7) (1.21.6)\n",
            "Installing collected packages: scipy\n",
            "  Attempting uninstall: scipy\n",
            "    Found existing installation: scipy 1.7.3\n",
            "    Uninstalling scipy-1.7.3:\n",
            "      Successfully uninstalled scipy-1.7.3\n",
            "\u001b[31mERROR: pip's dependency resolver does not currently take into account all the packages that are installed. This behaviour is the source of the following dependency conflicts.\n",
            "pymc3 3.11.5 requires scipy<1.8.0,>=1.7.3, but you have scipy 1.7.0 which is incompatible.\u001b[0m\n",
            "Successfully installed scipy-1.7.0\n",
            "Looking in indexes: https://pypi.org/simple, https://us-python.pkg.dev/colab-wheels/public/simple/\n",
            "Collecting smt\n",
            "  Downloading smt-1.2.0.tar.gz (252 kB)\n",
            "\u001b[K     |████████████████████████████████| 252 kB 5.1 MB/s \n",
            "\u001b[?25h  Installing build dependencies ... \u001b[?25l\u001b[?25hdone\n",
            "  Getting requirements to build wheel ... \u001b[?25l\u001b[?25hdone\n",
            "    Preparing wheel metadata ... \u001b[?25l\u001b[?25hdone\n",
            "Collecting pyDOE2\n",
            "  Downloading pyDOE2-1.3.0.tar.gz (19 kB)\n",
            "Requirement already satisfied: packaging in /usr/local/lib/python3.7/dist-packages (from smt) (21.3)\n",
            "Requirement already satisfied: scipy in /usr/local/lib/python3.7/dist-packages (from smt) (1.7.0)\n",
            "Requirement already satisfied: matplotlib in /usr/local/lib/python3.7/dist-packages (from smt) (3.2.2)\n",
            "Collecting numpydoc\n",
            "  Downloading numpydoc-1.4.0-py3-none-any.whl (51 kB)\n",
            "\u001b[K     |████████████████████████████████| 51 kB 765 kB/s \n",
            "\u001b[?25hRequirement already satisfied: scikit-learn in /usr/local/lib/python3.7/dist-packages (from smt) (1.0.2)\n",
            "Requirement already satisfied: kiwisolver>=1.0.1 in /usr/local/lib/python3.7/dist-packages (from matplotlib->smt) (1.4.4)\n",
            "Requirement already satisfied: cycler>=0.10 in /usr/local/lib/python3.7/dist-packages (from matplotlib->smt) (0.11.0)\n",
            "Requirement already satisfied: pyparsing!=2.0.4,!=2.1.2,!=2.1.6,>=2.0.1 in /usr/local/lib/python3.7/dist-packages (from matplotlib->smt) (3.0.9)\n",
            "Requirement already satisfied: python-dateutil>=2.1 in /usr/local/lib/python3.7/dist-packages (from matplotlib->smt) (2.8.2)\n",
            "Requirement already satisfied: numpy>=1.11 in /usr/local/lib/python3.7/dist-packages (from matplotlib->smt) (1.21.6)\n",
            "Requirement already satisfied: typing-extensions in /usr/local/lib/python3.7/dist-packages (from kiwisolver>=1.0.1->matplotlib->smt) (4.1.1)\n",
            "Requirement already satisfied: six>=1.5 in /usr/local/lib/python3.7/dist-packages (from python-dateutil>=2.1->matplotlib->smt) (1.15.0)\n",
            "Requirement already satisfied: Jinja2>=2.10 in /usr/local/lib/python3.7/dist-packages (from numpydoc->smt) (2.11.3)\n",
            "Collecting sphinx>=3.0\n",
            "  Downloading Sphinx-5.1.1-py3-none-any.whl (3.2 MB)\n",
            "\u001b[K     |████████████████████████████████| 3.2 MB 56.2 MB/s \n",
            "\u001b[?25hRequirement already satisfied: MarkupSafe>=0.23 in /usr/local/lib/python3.7/dist-packages (from Jinja2>=2.10->numpydoc->smt) (2.0.1)\n",
            "Collecting sphinxcontrib-htmlhelp>=2.0.0\n",
            "  Downloading sphinxcontrib_htmlhelp-2.0.0-py2.py3-none-any.whl (100 kB)\n",
            "\u001b[K     |████████████████████████████████| 100 kB 6.7 MB/s \n",
            "\u001b[?25hRequirement already satisfied: importlib-metadata>=4.4 in /usr/local/lib/python3.7/dist-packages (from sphinx>=3.0->numpydoc->smt) (4.12.0)\n",
            "Requirement already satisfied: babel>=1.3 in /usr/local/lib/python3.7/dist-packages (from sphinx>=3.0->numpydoc->smt) (2.10.3)\n",
            "Collecting sphinxcontrib-qthelp\n",
            "  Downloading sphinxcontrib_qthelp-1.0.3-py2.py3-none-any.whl (90 kB)\n",
            "\u001b[K     |████████████████████████████████| 90 kB 11.3 MB/s \n",
            "\u001b[?25hRequirement already satisfied: alabaster<0.8,>=0.7 in /usr/local/lib/python3.7/dist-packages (from sphinx>=3.0->numpydoc->smt) (0.7.12)\n",
            "Collecting sphinxcontrib-jsmath\n",
            "  Downloading sphinxcontrib_jsmath-1.0.1-py2.py3-none-any.whl (5.1 kB)\n",
            "Requirement already satisfied: sphinxcontrib-serializinghtml>=1.1.5 in /usr/local/lib/python3.7/dist-packages (from sphinx>=3.0->numpydoc->smt) (1.1.5)\n",
            "Requirement already satisfied: docutils<0.20,>=0.14 in /usr/local/lib/python3.7/dist-packages (from sphinx>=3.0->numpydoc->smt) (0.17.1)\n",
            "Requirement already satisfied: imagesize in /usr/local/lib/python3.7/dist-packages (from sphinx>=3.0->numpydoc->smt) (1.4.1)\n",
            "Collecting sphinxcontrib-applehelp\n",
            "  Downloading sphinxcontrib_applehelp-1.0.2-py2.py3-none-any.whl (121 kB)\n",
            "\u001b[K     |████████████████████████████████| 121 kB 62.2 MB/s \n",
            "\u001b[?25hRequirement already satisfied: Pygments>=2.0 in /usr/local/lib/python3.7/dist-packages (from sphinx>=3.0->numpydoc->smt) (2.6.1)\n",
            "Requirement already satisfied: requests>=2.5.0 in /usr/local/lib/python3.7/dist-packages (from sphinx>=3.0->numpydoc->smt) (2.23.0)\n",
            "Requirement already satisfied: snowballstemmer>=1.1 in /usr/local/lib/python3.7/dist-packages (from sphinx>=3.0->numpydoc->smt) (2.2.0)\n",
            "Collecting sphinxcontrib-devhelp\n",
            "  Downloading sphinxcontrib_devhelp-1.0.2-py2.py3-none-any.whl (84 kB)\n",
            "\u001b[K     |████████████████████████████████| 84 kB 3.7 MB/s \n",
            "\u001b[?25hRequirement already satisfied: pytz>=2015.7 in /usr/local/lib/python3.7/dist-packages (from babel>=1.3->sphinx>=3.0->numpydoc->smt) (2022.2.1)\n",
            "Requirement already satisfied: zipp>=0.5 in /usr/local/lib/python3.7/dist-packages (from importlib-metadata>=4.4->sphinx>=3.0->numpydoc->smt) (3.8.1)\n",
            "Requirement already satisfied: urllib3!=1.25.0,!=1.25.1,<1.26,>=1.21.1 in /usr/local/lib/python3.7/dist-packages (from requests>=2.5.0->sphinx>=3.0->numpydoc->smt) (1.24.3)\n",
            "Requirement already satisfied: chardet<4,>=3.0.2 in /usr/local/lib/python3.7/dist-packages (from requests>=2.5.0->sphinx>=3.0->numpydoc->smt) (3.0.4)\n",
            "Requirement already satisfied: idna<3,>=2.5 in /usr/local/lib/python3.7/dist-packages (from requests>=2.5.0->sphinx>=3.0->numpydoc->smt) (2.10)\n",
            "Requirement already satisfied: certifi>=2017.4.17 in /usr/local/lib/python3.7/dist-packages (from requests>=2.5.0->sphinx>=3.0->numpydoc->smt) (2022.6.15)\n",
            "Requirement already satisfied: joblib>=0.11 in /usr/local/lib/python3.7/dist-packages (from scikit-learn->smt) (1.1.0)\n",
            "Requirement already satisfied: threadpoolctl>=2.0.0 in /usr/local/lib/python3.7/dist-packages (from scikit-learn->smt) (3.1.0)\n",
            "Building wheels for collected packages: smt, pyDOE2\n",
            "  Building wheel for smt (PEP 517) ... \u001b[?25l\u001b[?25hdone\n",
            "  Created wheel for smt: filename=smt-1.2.0-cp37-cp37m-linux_x86_64.whl size=527837 sha256=fb057c37d4d7a3601b870d4c0fdb60c715523cfdf658e68b9324905c2e629cab\n",
            "  Stored in directory: /root/.cache/pip/wheels/3d/69/1e/ae0014b43757c2db9bdd61fdae3a4f532f9d64c451a1bc678e\n",
            "  Building wheel for pyDOE2 (setup.py) ... \u001b[?25l\u001b[?25hdone\n",
            "  Created wheel for pyDOE2: filename=pyDOE2-1.3.0-py3-none-any.whl size=25539 sha256=972b7159f9a23a644ed4ee5eec1b15ece6703d7445a69025f43b76283563ac9c\n",
            "  Stored in directory: /root/.cache/pip/wheels/49/91/2d/d08e80806bf7756193541f6c03c0492af288fcd6158d3d0998\n",
            "Successfully built smt pyDOE2\n",
            "Installing collected packages: sphinxcontrib-qthelp, sphinxcontrib-jsmath, sphinxcontrib-htmlhelp, sphinxcontrib-devhelp, sphinxcontrib-applehelp, sphinx, pyDOE2, numpydoc, smt\n",
            "  Attempting uninstall: sphinx\n",
            "    Found existing installation: Sphinx 1.8.6\n",
            "    Uninstalling Sphinx-1.8.6:\n",
            "      Successfully uninstalled Sphinx-1.8.6\n",
            "Successfully installed numpydoc-1.4.0 pyDOE2-1.3.0 smt-1.2.0 sphinx-5.1.1 sphinxcontrib-applehelp-1.0.2 sphinxcontrib-devhelp-1.0.2 sphinxcontrib-htmlhelp-2.0.0 sphinxcontrib-jsmath-1.0.1 sphinxcontrib-qthelp-1.0.3\n"
          ]
        },
        {
          "output_type": "display_data",
          "data": {
            "application/vnd.colab-display-data+json": {
              "pip_warning": {
                "packages": [
                  "sphinxcontrib"
                ]
              }
            }
          },
          "metadata": {}
        }
      ],
      "source": [
        "!pip install scipy==1.7\n",
        "!pip install smt # for Latin Hypercube sampling"
      ]
    },
    {
      "cell_type": "code",
      "execution_count": null,
      "metadata": {
        "id": "Z9dUmHDGNUXd"
      },
      "outputs": [],
      "source": [
        "# Various packages\n",
        "import os\n",
        "import sys\n",
        "import numpy as np\n",
        "import pandas as pd\n",
        "from pandas import DataFrame\n",
        "import matplotlib.pyplot as plt\n",
        "import time\n",
        "import datetime\n",
        "from google.colab import files # to save the dataset into CSV files, to save figures\n",
        "np.random.seed(42) # set a seed for the random generator\n",
        "from smt.sampling_methods import LHS # to perform Latin Hypercube Sampling (LHS)\n",
        "\n",
        "# scipy\n",
        "from scipy.integrate import quad_vec  # quad_vec allows to compute integrals accurately\n",
        "from scipy.stats import norm\n",
        "from scipy.stats import qmc # to perform Latin Hypercube Sampling (LHS) \n",
        "\n"
      ]
    },
    {
      "cell_type": "markdown",
      "metadata": {
        "id": "6Gq8g8xtINPf"
      },
      "source": [
        "# <strong> 2. European Call & Put prices </strong>"
      ]
    },
    {
      "cell_type": "markdown",
      "metadata": {
        "id": "o6ox6vK7vN49"
      },
      "source": [
        "## <Strong><font color='green'>2.1. Implement the characteristic function</font></Strong>"
      ]
    },
    {
      "cell_type": "code",
      "execution_count": null,
      "metadata": {
        "id": "JHbM6puCu89h"
      },
      "outputs": [],
      "source": [
        "def beta_function(u, tau, sigma, rho, kappa):\n",
        "    return kappa - 1j * u * sigma * rho\n",
        "\n",
        "def alpha_hat_function(u):\n",
        "    return -0.5 * u * (u + 1j)\n",
        "\n",
        "def d_function(u, tau, sigma, rho, kappa):\n",
        "    gamma = 0.5 * sigma**2\n",
        "    beta = beta_function(u, tau, sigma, rho, kappa)\n",
        "    alpha_hat = alpha_hat_function(u)\n",
        "    return np.sqrt(beta**2 - 4 * alpha_hat * gamma)\n",
        "\n",
        "def g_function(u, tau, sigma, rho, kappa):\n",
        "    beta = beta_function(u, tau, sigma, rho, kappa)\n",
        "    d = d_function(u, tau, sigma, rho, kappa)\n",
        "    return (beta - d) / (beta + d)\n",
        "\n",
        "def A_function(u, tau, theta, sigma, rho, kappa):\n",
        "    beta = beta_function(u, tau, sigma, rho, kappa)\n",
        "    d = d_function(u, tau, sigma, rho, kappa)\n",
        "    g = g_function(u, tau, sigma, rho, kappa)\n",
        "    common_term = np.exp(-d*tau)\n",
        "    A_u = (kappa * theta / (sigma**2)) * ((beta-d)*tau - 2*np.log((g*common_term-1) / (g-1)))    \n",
        "    return A_u\n",
        "\n",
        "def B_function(u, tau, sigma, rho, kappa):\n",
        "    beta = beta_function(u, tau, sigma, rho, kappa)\n",
        "    d = d_function(u, tau, sigma, rho, kappa)\n",
        "    g = g_function(u, tau, sigma, rho, kappa)\n",
        "    common_term = np.exp(-d*tau)\n",
        "    B_u = ((beta-d) / (sigma**2)) * ((1 - common_term) / (1 - g*common_term))\n",
        "    return B_u\n"
      ]
    },
    {
      "cell_type": "code",
      "execution_count": null,
      "metadata": {
        "id": "yX-SzB0exN26"
      },
      "outputs": [],
      "source": [
        "def heston_charact_funct(u, tau, theta, sigma, rho, kappa, v0):\n",
        "\n",
        "    beta = beta_function(u, tau, sigma, rho, kappa)    \n",
        "    #alpha_hat = alpha_hat_function(u)    \n",
        "    d = d_function(u, tau, sigma, rho, kappa)\n",
        "    g = g_function(u, tau, sigma, rho, kappa)\n",
        "    common_term = np.exp(-d*tau)\n",
        "    A = A_function(u, tau, theta, sigma, rho, kappa)\n",
        "    B = B_function(u, tau, sigma, rho, kappa)\n",
        "\n",
        "    return np.exp(A + B * v0)"
      ]
    },
    {
      "cell_type": "markdown",
      "metadata": {
        "id": "JMa0ekMEFktV"
      },
      "source": [
        "## <Strong><font color='green'>2.2. Perform numerical integration</font></Strong>: using scipy integrate quad_vec function"
      ]
    },
    {
      "cell_type": "code",
      "execution_count": null,
      "metadata": {
        "id": "BVAEGGsAxuCu"
      },
      "outputs": [],
      "source": [
        "def integral_price(m, tau, theta, sigma, rho, kappa, v0):\n",
        "    integrand = (lambda u: \n",
        "        np.real(np.exp((1j*u + 0.5)*m)*heston_charact_funct(u - 0.5j, tau, theta, sigma, rho, kappa, v0))/(u**2 + 0.25))\n",
        "\n",
        "    integ, err = quad_vec(integrand, 0, np.inf)\n",
        "    return integ"
      ]
    },
    {
      "cell_type": "markdown",
      "metadata": {
        "id": "iYBU_5Cy1OCL"
      },
      "source": [
        "## <Strong><font color='green'>2.3. Calculate European Call price </font></Strong>"
      ]
    },
    {
      "cell_type": "code",
      "execution_count": null,
      "metadata": {
        "id": "h5qOq54Z1CX-"
      },
      "outputs": [],
      "source": [
        "def call_price(k, tau, S0, r, theta, sigma, rho, kappa, v0):\n",
        "    m = np.log(S0/k) + r*tau #log-moneyness forward\n",
        "    integ = integral_price(m, tau, theta, sigma, rho, kappa, v0)  \n",
        "    price = S0 - k * np.exp(-r*tau) * integ  /np.pi\n",
        "         \n",
        "    return price"
      ]
    },
    {
      "cell_type": "markdown",
      "metadata": {
        "id": "DKAdJemM7WNJ"
      },
      "source": [
        "## <Strong><font color='green'>2.4. Calculate European put price </font></Strong>: using the call-put parity relation\n"
      ]
    },
    {
      "cell_type": "code",
      "execution_count": null,
      "metadata": {
        "id": "Dxaay3fh7d0B"
      },
      "outputs": [],
      "source": [
        "def put_price(k, tau, S0, r, theta, sigma, rho, kappa, v0):\n",
        "    price = call_price(k, tau, S0, r, theta, sigma, rho, kappa, v0)- S0 + k * np.exp(-r*tau)\n",
        "    return price"
      ]
    },
    {
      "cell_type": "markdown",
      "metadata": {
        "id": "MXB1HAnESbJu"
      },
      "source": [
        "## <Strong><font color='green'>2.5. Calculate the Normalised Forward Put Price $\\hat{P}$ </font></Strong>\n",
        "\n",
        "$\\hat{P}(t,S_t,v_t) = \\frac{e^{rT}}{K} P(t,S_t,v_t)$"
      ]
    },
    {
      "cell_type": "code",
      "execution_count": null,
      "metadata": {
        "id": "-3T9H-gsTOBd"
      },
      "outputs": [],
      "source": [
        "def norm_forw_put_price(lm, r, tau, theta, sigma, rho, kappa, v0):\n",
        "    m = lm + r*tau #log-moneyness forward\n",
        "    integ = integral_price(m, tau, theta, sigma, rho, kappa, v0)\n",
        "    return 1 - (1/np.pi) * integ"
      ]
    },
    {
      "cell_type": "markdown",
      "metadata": {
        "id": "bTh9lD-pzI92"
      },
      "source": [
        "### Sanity check: $\\hat{P}$ calculation"
      ]
    },
    {
      "cell_type": "code",
      "execution_count": null,
      "metadata": {
        "id": "wLWF6Dceweon"
      },
      "outputs": [],
      "source": [
        "\n",
        "def test_p_hat():\n",
        "    k = 100.0 # strike\n",
        "    S0 = 100.0 # initial asset price\n",
        "    lm = np.log(S0/k)\n",
        "    r=0.03\n",
        "    tau=1.\n",
        "    theta=0.0398\n",
        "    sigma=0.3\n",
        "    rho=-0.5711\n",
        "    kappa=1.5768\n",
        "    v0=0.1\n",
        "\n",
        "    call = call_price(k, tau, S0, r, theta, sigma, rho, kappa, v0)\n",
        "    put = put_price(k, tau, S0, r, theta, sigma, rho, kappa, v0)\n",
        "    p_hat_expected = (np.exp(r*tau)/k) * put\n",
        "    p_hat = norm_forw_put_price(lm, r, tau, theta, sigma, rho, kappa, v0)\n",
        "\n",
        "    np.testing.assert_almost_equal(p_hat, p_hat_expected, decimal=5, err_msg='', verbose=True)    \n",
        "\n",
        "test_p_hat()  \n"
      ]
    },
    {
      "cell_type": "markdown",
      "metadata": {
        "id": "Be36uZjanjM7"
      },
      "source": [
        "## <Strong><font color='green'>2.6. Black-Scholes as a particular case </font></Strong>\n",
        "The Black-Scholes model is embedded inside the Heston model. Therefore, the European option Heston price under specific parameter values will be the Black-Scholes price. To check our Heston prices implementation, we will price European calls and put options under Black-Scholes and the Heston model with the parameter values leading to the Black-Scholes prices. We have to obtain comparable prices. Note that we cannot substitute $σ = 0$ into the Heston pricing functions because that will lead to division by zero. We will take small value of $\\sigma$ (e.g $10^{-05}$)."
      ]
    },
    {
      "cell_type": "code",
      "execution_count": null,
      "metadata": {
        "id": "HWu2Q6PR6ZrL"
      },
      "outputs": [],
      "source": [
        "def d1(k, tau, S0, r, sigma):\n",
        "    return(np.log(S0/k)+(r+((sigma**2)/2.))*tau)/(sigma*np.sqrt(tau))\n",
        "\n",
        "def d2(k, tau, S0, r, sigma):\n",
        "    return d1(k,tau, S0, r, sigma) - sigma*np.sqrt(tau)\n",
        "\n",
        "# Black-Scholes Call price \n",
        "def call_bs(k, tau, S0, r, sigma):\n",
        "    return S0*norm.cdf(d1(k, tau, S0, r, sigma))-k*np.exp(-r*tau)*norm.cdf(d2(k, tau, S0, r, sigma))\n",
        "\n",
        "# Black-Scholes Put price using the call-put parity relation\n",
        "def put_bs(k, tau, S0, r, sigma):\n",
        "    return call_bs(k,tau, S0, r, sigma) + k*np.exp(-r*tau) - S0    \n"
      ]
    },
    {
      "cell_type": "markdown",
      "metadata": {
        "id": "x9gWeGMOppyj"
      },
      "source": [
        "### 2.6.1 First case: small $σ$, $θ = v_0$ and $σ_{BS} = \\sqrt{v_0}$"
      ]
    },
    {
      "cell_type": "code",
      "execution_count": null,
      "metadata": {
        "id": "P0wSFYR1sGYd"
      },
      "outputs": [],
      "source": [
        "def test_call_heston():\n",
        "    k=100.0\n",
        "    tau=1.\n",
        "    S0=100.\n",
        "    r=0.03\n",
        "    theta=0.1\n",
        "    sigma=0.00001\n",
        "    #sigma=0.000001\n",
        "\n",
        "    rho=-0.5711\n",
        "    kappa=1.5768\n",
        "    #kappa=0.001\n",
        "    #kappa=3 \n",
        "    #kappa=1.5\n",
        "    v0=0.1\n",
        "\n",
        "    sigma_BS = np.sqrt(v0)\n",
        "    call_heston = call_price(k, tau, S0, r, theta, sigma, rho, kappa, v0)\n",
        "    call_BS = call_bs(k, tau, S0, r, sigma_BS)\n",
        "    #print(call_heston)\n",
        "    #print(call_BS)\n",
        "\n",
        "    np.testing.assert_almost_equal(call_heston, call_BS, decimal=5, err_msg='', verbose=True)    \n",
        "\n",
        "test_call_heston()"
      ]
    },
    {
      "cell_type": "code",
      "execution_count": null,
      "metadata": {
        "id": "QEzHg9Hyt-yC"
      },
      "outputs": [],
      "source": [
        "def test_put_heston():\n",
        "    k=100.0\n",
        "    tau=1.\n",
        "    S0=100.\n",
        "    r=0.03\n",
        "    theta=0.1\n",
        "    sigma=0.00001\n",
        "    rho=-0.5711\n",
        "    kappa=1.5768\n",
        "    v0=0.1\n",
        "\n",
        "    sigma_BS = np.sqrt(v0)\n",
        "    put_heston = put_price(k, tau, S0, r, theta, sigma, rho, kappa, v0)\n",
        "    put_BS = put_bs(k, tau, S0, r, sigma_BS)\n",
        "\n",
        "    np.testing.assert_almost_equal(put_heston, put_BS, decimal=5, err_msg='', verbose=True)    \n",
        "\n",
        "test_put_heston()"
      ]
    },
    {
      "cell_type": "markdown",
      "metadata": {
        "id": "kGewL_Zjp-Sr"
      },
      "source": [
        "### 2.6.2 Second case: Small $\\sigma$ and \n",
        "\\begin{equation}\n",
        "\\sigma^2_{BS} = \\theta + \\frac{1-e^{-\\kappa \\tau}}{\\kappa \\tau} (v_0-\\theta)\n",
        "\\end{equation}"
      ]
    },
    {
      "cell_type": "code",
      "execution_count": null,
      "metadata": {
        "id": "5klLNITgvCsM"
      },
      "outputs": [],
      "source": [
        "def test_call_heston():\n",
        "    k=100.0\n",
        "    tau=1.\n",
        "    S0=100.\n",
        "    r=0.03\n",
        "    theta=0.1\n",
        "    sigma=0.00001\n",
        "    rho=-0.5711\n",
        "    kappa=1.5768\n",
        "    v0=0.1\n",
        "\n",
        "    coeff = (1-np.exp(-kappa*tau))/(kappa*tau)\n",
        "    sigma_BS = np.sqrt(theta+(v0-theta)*coeff)\n",
        "    \n",
        "    call_heston = call_price(k, tau, S0, r, theta, sigma, rho, kappa, v0)\n",
        "    call_BS = call_bs(k, tau, S0, r, sigma_BS)\n",
        "\n",
        "    np.testing.assert_almost_equal(call_heston, call_BS, decimal=5, err_msg='', verbose=True)    \n",
        "\n",
        "test_call_heston()"
      ]
    },
    {
      "cell_type": "code",
      "execution_count": null,
      "metadata": {
        "id": "QDX3PBFRvCsM"
      },
      "outputs": [],
      "source": [
        "def test_put_heston():\n",
        "    k=100.0\n",
        "    tau=1.\n",
        "    S0=100.\n",
        "    r=0.03\n",
        "    theta=0.1\n",
        "    sigma=0.00001\n",
        "    rho=-0.5711\n",
        "    kappa=1.5768\n",
        "    v0=0.1\n",
        "\n",
        "    coeff = (1-np.exp(-kappa*tau))/(kappa*tau)\n",
        "    sigma_BS = np.sqrt(theta+(v0-theta)*coeff)\n",
        "    \n",
        "    put_heston = put_price(k, tau, S0, r, theta, sigma, rho, kappa, v0)\n",
        "    put_BS = put_bs(k, tau, S0, r, sigma_BS)\n",
        "\n",
        "    np.testing.assert_almost_equal(put_heston, put_BS, decimal=5, err_msg='', verbose=True)    \n",
        "\n",
        "test_put_heston()"
      ]
    },
    {
      "cell_type": "markdown",
      "source": [
        "# <strong> 3. Differential of the Normalised Forward Put Price w.r.t inputs </strong> "
      ],
      "metadata": {
        "id": "9EVHPImhwKYg"
      }
    },
    {
      "cell_type": "code",
      "execution_count": null,
      "metadata": {
        "id": "Gsd5Kb6SBuqR"
      },
      "outputs": [],
      "source": [
        "def integral_delta(m, tau, theta, sigma, rho, kappa, v0):\n",
        "    integrand = (lambda u: \n",
        "        np.real((1j*u + 0.5) * np.exp((1j*u + 0.5)*m)*heston_charact_funct(u - 0.5j, tau, theta, sigma, rho, kappa, v0))/(u**2 + 0.25))\n",
        "\n",
        "    integ, err = quad_vec(integrand, 0, np.inf)\n",
        "    return integ"
      ]
    },
    {
      "cell_type": "code",
      "execution_count": null,
      "metadata": {
        "id": "asTqtwTaBNRg"
      },
      "outputs": [],
      "source": [
        "def term_interm_theta(u, tau, sigma, rho, theta, kappa, v0):\n",
        "    beta = beta_function(u, tau, sigma, rho, kappa)\n",
        "    d = d_function(u, tau, sigma, rho, kappa)\n",
        "    g = g_function(u, tau, sigma, rho, kappa)\n",
        "\n",
        "    term1 = kappa*theta * (beta-d+2*((d*g*np.exp(-d*tau)) / ((g*np.exp(-d*tau))-1))) /(sigma**2)\n",
        "    term2 = v0*(beta-d)*d * np.exp(-d*tau)*(1-g)/((sigma**2)*(1-g*np.exp(-d*tau))**2)\n",
        "    term = term1 + term2\n",
        "\n",
        "    return term    "
      ]
    },
    {
      "cell_type": "code",
      "execution_count": null,
      "metadata": {
        "id": "lXdEeT_-2NfC"
      },
      "outputs": [],
      "source": [
        "def integral_differential_phi_tau(m, tau, sigma, rho, theta, kappa, v0):\n",
        "\n",
        "    integrand = (lambda u: \n",
        "        np.real(np.exp((1j*u + 0.5)*m)*heston_charact_funct(u - 0.5j, tau, theta, sigma, rho, kappa, v0) * \n",
        "                term_interm_theta(u - 0.5j, tau, sigma, rho, theta, kappa, v0))  /(u**2 + 0.25))\n",
        "\n",
        "    integ, err = quad_vec(integrand, 0, np.inf)\n",
        "    return integ"
      ]
    },
    {
      "cell_type": "markdown",
      "metadata": {
        "id": "8w1ZnWQmvVPT"
      },
      "source": [
        "## <Strong><font color='green'>3.1. $\\frac{\\partial \\hat{P}}{\\partial \\theta}$ </font></Strong>"
      ]
    },
    {
      "cell_type": "code",
      "source": [
        "def differential_wrt_theta(lm, r, tau, theta, sigma, rho, kappa, v0):\n",
        "    m = lm + r * tau     #log-moneyness forward\n",
        "    if theta == 0.:\n",
        "        theta = 0.00000001\n",
        "    \n",
        "    integrand = (lambda u: \n",
        "        np.real((1/theta) * np.exp((1j*u + 0.5)*m)* A_function(u - 0.5j, tau, theta, sigma, rho, kappa) * heston_charact_funct(u - 0.5j, tau, theta, sigma, rho, kappa, v0))/(u**2 + 0.25))\n",
        "\n",
        "    integ, err = quad_vec(integrand, 0, np.inf)\n",
        "    return (-1/np.pi) * integ"
      ],
      "metadata": {
        "id": "QFqLrMchhRAA"
      },
      "execution_count": null,
      "outputs": []
    },
    {
      "cell_type": "code",
      "execution_count": null,
      "metadata": {
        "id": "7B4yjUZY-hcL"
      },
      "outputs": [],
      "source": [
        "def test_differential_wrt_theta():    \n",
        "    delta_theta = 0.00000001\n",
        "    theta0 = 0.7\n",
        "    m = 1. + 0.03*5.\n",
        "    p_hat_deltathetaplustheta0 = norm_forw_put_price(lm=1., r=0.03, tau=5., theta=delta_theta+theta0,  sigma=0.7, rho=-0.6, kappa=0.15, v0=0.25)\n",
        "    p_hat_theta0 = norm_forw_put_price(lm=1., r=0.03, tau=5., theta=theta0,  sigma=0.7, rho=-0.6, kappa=0.15, v0=0.25)\n",
        "\n",
        "    differential_formula = differential_wrt_theta(lm=1., r=0.03, tau=5., theta=0.7, sigma=0.7, rho=-0.6, kappa=0.15, v0=0.25)\n",
        "    differential_finite_difference = (p_hat_deltathetaplustheta0 - p_hat_theta0)/delta_theta \n",
        "    \n",
        "    np.testing.assert_almost_equal(differential_formula, differential_finite_difference, decimal=8, err_msg='', verbose=True)  \n",
        "\n",
        "test_differential_wrt_theta()\n",
        "  "
      ]
    },
    {
      "cell_type": "markdown",
      "metadata": {
        "id": "L1g-8wx2ZItd"
      },
      "source": [
        "## <Strong><font color='green'>3.2. $\\frac{\\partial \\hat{P}}{\\partial lm}$ </font></Strong>\n",
        "lm is the log-moneyness"
      ]
    },
    {
      "cell_type": "code",
      "execution_count": null,
      "metadata": {
        "id": "-3Je43dQL-7U"
      },
      "outputs": [],
      "source": [
        "def differential_wrt_lm(lm, r, tau, theta, sigma, rho, kappa, v0):\n",
        "    m = lm + r * tau #log-moneyness forward\n",
        "    res = - (1/np.pi) * integral_delta(m, tau, theta, sigma, rho, kappa, v0)\n",
        "    return res"
      ]
    },
    {
      "cell_type": "code",
      "execution_count": null,
      "metadata": {
        "id": "g_KWTFltWQAc"
      },
      "outputs": [],
      "source": [
        "def test_differential_wrt_lm():    \n",
        "    delta_lm = 0.00000001\n",
        "    lm0 = 1.\n",
        "\n",
        "    p_hat_deltampluslm0 = norm_forw_put_price(lm=delta_lm+lm0, r=0.03,tau=5., theta=0.7,  sigma=0.7, rho=-0.6, kappa=0.15, v0=0.25)\n",
        "    p_hat_lm0 = norm_forw_put_price(lm=lm0, r=0.03, tau=5., theta=0.7,  sigma=0.7, rho=-0.6, kappa=0.15, v0=0.25)\n",
        "\n",
        "    differential_formula = differential_wrt_lm(lm=1., r=0.03, tau=5., theta=0.7, sigma=0.7, rho=-0.6, kappa=0.15, v0=0.25)\n",
        "    differential_finite_difference = (p_hat_deltampluslm0 - p_hat_lm0)/delta_lm\n",
        "    \n",
        "    np.testing.assert_almost_equal(differential_formula, differential_finite_difference, decimal=8, err_msg='', verbose=True)   \n",
        "\n",
        "test_differential_wrt_lm()\n",
        "  "
      ]
    },
    {
      "cell_type": "markdown",
      "metadata": {
        "id": "oltdZ4KdY5sl"
      },
      "source": [
        "## <Strong><font color='green'>3.3. $\\frac{\\partial \\hat{P}}{\\partial v_o}$ </font></Strong>"
      ]
    },
    {
      "cell_type": "code",
      "execution_count": null,
      "metadata": {
        "id": "8Dxzc-V-Y49L"
      },
      "outputs": [],
      "source": [
        "def differential_wrt_v0(lm, r, tau, theta, sigma, rho, kappa, v0):    \n",
        "    m = lm + r * tau #log-moneyness forward\n",
        "    integrand = (lambda u: \n",
        "        np.real(np.exp((1j*u + 0.5)*m)* B_function(u - 0.5j, tau, sigma, rho, kappa) * heston_charact_funct(u - 0.5j, tau, theta, sigma, rho, kappa, v0))/(u**2 + 0.25))\n",
        "\n",
        "    integ, err = quad_vec(integrand, 0, np.inf)\n",
        "    return (-1/np.pi) * integ"
      ]
    },
    {
      "cell_type": "code",
      "execution_count": null,
      "metadata": {
        "id": "BN4w1522aPJ1"
      },
      "outputs": [],
      "source": [
        "def test_differential_wrt_v0():    \n",
        "    delta_v0 = 0.00000001\n",
        "    v0 = 0.25\n",
        "\n",
        "    p_hat_deltav0plusv0 = norm_forw_put_price(lm=1., r=0.03, tau=5., theta=0.7,  sigma=0.7, rho=-0.6, kappa=0.15, v0=delta_v0+v0)\n",
        "    p_hat_v0 = norm_forw_put_price(lm=1., r=0.03, tau=5., theta=0.7,  sigma=0.7, rho=-0.6, kappa=0.15, v0=v0)\n",
        "\n",
        "    differential_formula = differential_wrt_v0(lm=1., r=0.03, tau=5., theta=0.7, sigma=0.7, rho=-0.6, kappa=0.15, v0=0.25)\n",
        "    differential_finite_difference = (p_hat_deltav0plusv0 - p_hat_v0)/delta_v0\n",
        "    \n",
        "    np.testing.assert_almost_equal(differential_formula, differential_finite_difference, decimal=7, err_msg='', verbose=True)   \n",
        "\n",
        "test_differential_wrt_v0()"
      ]
    },
    {
      "cell_type": "markdown",
      "metadata": {
        "id": "j4MziFUaovMY"
      },
      "source": [
        "## <Strong><font color='green'>3.4. $\\frac{\\partial \\hat{P}}{\\partial \\tau}$ </font></Strong>"
      ]
    },
    {
      "cell_type": "code",
      "execution_count": null,
      "metadata": {
        "id": "Af8OipM_oxvJ"
      },
      "outputs": [],
      "source": [
        "def differential_wrt_tau(lm, r, tau, theta, sigma, rho, kappa, v0):    \n",
        "    m = lm + r * tau #log-moneyness forward\n",
        "    integ1 = integral_delta(m, tau, theta, sigma, rho, kappa, v0)\n",
        "    integ2 = integral_differential_phi_tau(m, tau, sigma, rho, theta, kappa, v0)   \n",
        "\n",
        "    return (-1/np.pi) * (r * integ1 + integ2)"
      ]
    },
    {
      "cell_type": "code",
      "execution_count": null,
      "metadata": {
        "id": "snL4ttZWbdck"
      },
      "outputs": [],
      "source": [
        "def test_differential_wrt_tau():    \n",
        "    delta_tau = 0.00000001\n",
        "    tau0 = 5.\n",
        "    p_hat_deltatauplustau0 = norm_forw_put_price(lm=1., r=0.03, tau=delta_tau+tau0, theta=0.7,  sigma=0.7, rho=-0.6, kappa=0.15, v0=0.25)\n",
        "    p_hat_tau0 = norm_forw_put_price(lm=1., r=0.03, tau=tau0, theta=0.7,  sigma=0.7, rho=-0.6, kappa=0.15, v0=0.25)\n",
        "\n",
        "    differential_formula = differential_wrt_tau(lm=1., r=0.03, tau=5., theta=0.7, sigma=0.7, rho=-0.6, kappa=0.15, v0=0.25)\n",
        "    differential_finite_difference = (p_hat_deltatauplustau0 - p_hat_tau0)/delta_tau\n",
        "    \n",
        "    np.testing.assert_almost_equal(differential_formula, differential_finite_difference, decimal=7, err_msg='', verbose=True)   \n",
        "\n",
        "test_differential_wrt_tau()"
      ]
    },
    {
      "cell_type": "markdown",
      "metadata": {
        "id": "G8RasJ3nsaCW"
      },
      "source": [
        "## <Strong><font color='green'>3.5. $\\frac{\\partial \\hat{P}}{\\partial \\kappa}$ </font></Strong>"
      ]
    },
    {
      "cell_type": "code",
      "execution_count": null,
      "metadata": {
        "id": "aZMk4Gjw0lWL"
      },
      "outputs": [],
      "source": [
        "def differential_A_kappa(u, tau, theta, sigma, rho, kappa):\n",
        "    beta = beta_function(u, tau, sigma, rho, kappa)\n",
        "    d = d_function(u, tau, sigma, rho, kappa)\n",
        "    g = g_function(u, tau, sigma, rho, kappa)\n",
        "    A_u = A_function(u, tau, theta, sigma, rho, kappa)\n",
        "\n",
        "    res = A_u/kappa - (kappa * theta / (d * (sigma**2))) * (-d*tau+tau*beta+4*g/(g-1)+2*g*np.exp(-d*tau)*(2+tau*beta)/(1-g*np.exp(-d*tau)))\n",
        "    return res"
      ]
    },
    {
      "cell_type": "code",
      "execution_count": null,
      "metadata": {
        "id": "6DWgewKv5The"
      },
      "outputs": [],
      "source": [
        "def differential_B_kappa(u, tau, theta, sigma, rho, kappa):\n",
        "    beta = beta_function(u, tau, sigma, rho, kappa)\n",
        "    d = d_function(u, tau, sigma, rho, kappa)\n",
        "    g = g_function(u, tau, sigma, rho, kappa)\n",
        "    B_u = B_function(u, tau, sigma, rho, kappa) \n",
        "\n",
        "    res = -B_u/d + (1/d) * (tau*beta*np.exp(-d*tau)*B_u/(1-np.exp(-d*tau)) - g*np.exp(-d*tau)*(2+tau*beta)*B_u/(1-g*np.exp(-d*tau)))\n",
        "    return res"
      ]
    },
    {
      "cell_type": "code",
      "execution_count": null,
      "metadata": {
        "id": "6HVO5F3KysAJ"
      },
      "outputs": [],
      "source": [
        "def differential_phi_kappa(u, tau, theta, sigma, rho, kappa, v0):\n",
        "    return heston_charact_funct(u, tau, theta, sigma, rho, kappa, v0) * (differential_A_kappa(u, tau, theta, sigma, rho, kappa) +\n",
        "                                                                         v0 * differential_B_kappa(u, tau, theta, sigma, rho, kappa))\n"
      ]
    },
    {
      "cell_type": "code",
      "execution_count": null,
      "metadata": {
        "id": "0w1j98WDsi9B"
      },
      "outputs": [],
      "source": [
        "def differential_wrt_kappa(lm, r, tau, theta, sigma, rho, kappa, v0): \n",
        "    m = lm + r*tau   #log-moneyness forward   \n",
        "    integrand = (lambda u: \n",
        "        np.real(np.exp((1j*u + 0.5)*m) * differential_phi_kappa(u - 0.5j, tau, theta, sigma, rho, kappa, v0))/(u**2 + 0.25))\n",
        "\n",
        "    integ, err = quad_vec(integrand, 0, np.inf)\n",
        "    return (-1/np.pi) * integ   "
      ]
    },
    {
      "cell_type": "code",
      "execution_count": null,
      "metadata": {
        "id": "NPPryhNjdAiW"
      },
      "outputs": [],
      "source": [
        "def test_differential_wrt_kappa():    \n",
        "    delta_kappa = 0.00000001\n",
        "    kappa0 = 0.15\n",
        "    p_hat_deltakappapluskappa0 = norm_forw_put_price(lm=1., r=0.03, tau=5., theta=0.7,  sigma=0.7, rho=-0.6, kappa=delta_kappa+kappa0, v0=0.25)\n",
        "    p_hat_kappa0 = norm_forw_put_price(lm=1., r=0.03, tau=5., theta=0.7,  sigma=0.7, rho=-0.6, kappa=kappa0, v0=0.25)\n",
        "\n",
        "    differential_formula = differential_wrt_kappa(lm=1., r=0.03, tau=5., theta=0.7, sigma=0.7, rho=-0.6, kappa=0.15, v0=0.25)\n",
        "    differential_finite_difference = (p_hat_deltakappapluskappa0 - p_hat_kappa0)/delta_kappa\n",
        "    \n",
        "    np.testing.assert_almost_equal(differential_formula, differential_finite_difference, decimal=7, err_msg='', verbose=True)   \n",
        "\n",
        "test_differential_wrt_kappa()"
      ]
    },
    {
      "cell_type": "markdown",
      "metadata": {
        "id": "ZQXeX_DR9AV2"
      },
      "source": [
        "## <Strong><font color='green'>3.6. $\\frac{\\partial \\hat{P}}{\\partial \\rho}$ </font></Strong>"
      ]
    },
    {
      "cell_type": "code",
      "execution_count": null,
      "metadata": {
        "id": "KDetEOkD-gTE"
      },
      "outputs": [],
      "source": [
        "def differential_A_rho(u, tau, theta, sigma, rho, kappa):\n",
        "    beta = beta_function(u, tau, sigma, rho, kappa)\n",
        "    d = d_function(u, tau, sigma, rho, kappa)\n",
        "    g = g_function(u, tau, sigma, rho, kappa)\n",
        "\n",
        "    res = (kappa*theta*1j*u/(d*sigma)) * (tau*(beta-d)-2*g*(np.exp(-d*tau)*(2+tau*beta)/(g*np.exp(-d*tau)-1)-2/(g-1)))\n",
        "    return res "
      ]
    },
    {
      "cell_type": "code",
      "execution_count": null,
      "metadata": {
        "id": "ytxNOYc9CJuG"
      },
      "outputs": [],
      "source": [
        "def differential_B_rho(u, tau, sigma, rho, kappa):\n",
        "    beta = beta_function(u, tau, sigma, rho, kappa)\n",
        "    d = d_function(u, tau, sigma, rho, kappa)\n",
        "    g = g_function(u, tau, sigma, rho, kappa)\n",
        "    B_u = B_function(u, tau, sigma, rho, kappa) \n",
        "\n",
        "    res = (1j*u*sigma*B_u/d) * (1+np.exp(-d*tau)*(-tau*beta/(1-np.exp(-d*tau))+g*(2+tau*beta)/(1-g*np.exp(-d*tau))))\n",
        "    return res"
      ]
    },
    {
      "cell_type": "code",
      "execution_count": null,
      "metadata": {
        "id": "Hd1yTNHz9cIF"
      },
      "outputs": [],
      "source": [
        "def differential_phi_rho(u, tau, theta, sigma, rho, kappa, v0):\n",
        "    return heston_charact_funct(u, tau, theta, sigma, rho, kappa, v0) * (differential_A_rho(u, tau, theta, sigma, rho, kappa) +\n",
        "                                                                         v0 * differential_B_rho(u, tau, sigma, rho, kappa))"
      ]
    },
    {
      "cell_type": "code",
      "execution_count": null,
      "metadata": {
        "id": "2INUxso59IdV"
      },
      "outputs": [],
      "source": [
        "def differential_wrt_rho(lm, r, tau, theta, sigma, rho, kappa, v0):\n",
        "    m = lm + r*tau  #log-moneyness forward\n",
        "    integrand = (lambda u: \n",
        "        np.real(np.exp((1j*u + 0.5)*m) * differential_phi_rho(u - 0.5j, tau, theta, sigma, rho, kappa, v0))/(u**2 + 0.25))\n",
        "\n",
        "    integ, err = quad_vec(integrand, 0, np.inf)\n",
        "    return (-1/np.pi) * integ   "
      ]
    },
    {
      "cell_type": "code",
      "execution_count": null,
      "metadata": {
        "id": "ccuiXVfPfLOg"
      },
      "outputs": [],
      "source": [
        "def test_differential_wrt_rho():    \n",
        "    delta_rho = 0.00000001\n",
        "    rho0 = -0.6\n",
        "    p_hat_deltarhoplusrho0 = norm_forw_put_price(lm=1., r=0.03, tau=5., theta=0.7,  sigma=0.7, rho=delta_rho+rho0, kappa=0.15, v0=0.25)\n",
        "    p_hat_rho0 = norm_forw_put_price(lm=1., r=0.03, tau=5., theta=0.7,  sigma=0.7, rho=rho0, kappa=0.15, v0=0.25)\n",
        "\n",
        "    differential_formula = differential_wrt_rho(lm=1., r=0.03, tau=5., theta=0.7, sigma=0.7, rho=-0.6, kappa=0.15, v0=0.25)\n",
        "    differential_finite_difference = (p_hat_deltarhoplusrho0 - p_hat_rho0)/delta_rho\n",
        "    \n",
        "    np.testing.assert_almost_equal(differential_formula, differential_finite_difference, decimal=7, err_msg='', verbose=True)   \n",
        "\n",
        "test_differential_wrt_rho()"
      ]
    },
    {
      "cell_type": "markdown",
      "metadata": {
        "id": "wSGTOaBjF38H"
      },
      "source": [
        "## <Strong><font color='green'>3.7. $\\frac{\\partial \\hat{P}}{\\partial \\sigma}$ </font></Strong>"
      ]
    },
    {
      "cell_type": "code",
      "execution_count": null,
      "metadata": {
        "id": "V9M-vePCIWV1"
      },
      "outputs": [],
      "source": [
        "def differential_ln_sigma(u, tau, sigma, rho, kappa):\n",
        "    beta = beta_function(u, tau, sigma, rho, kappa)\n",
        "    d = d_function(u, tau, sigma, rho, kappa)\n",
        "    g = g_function(u, tau, sigma, rho, kappa)\n",
        "    alpha_hat = alpha_hat_function(u)    \n",
        "\n",
        "    res= ((2j*u*rho*((beta**2)-(d**2))+4*beta*alpha_hat*sigma)*((g-1)*np.exp(-d*tau)-g*np.exp(-d*tau)+1)+\n",
        "          (g-1)*np.exp(-d*tau)*tau*g*((beta+d)**2)*(1j*u*rho*beta+2*alpha_hat*sigma))/(d*((beta+d)**2)*(g-1)*(g*np.exp(-d*tau)-1))\n",
        "    return res"
      ]
    },
    {
      "cell_type": "code",
      "execution_count": null,
      "metadata": {
        "id": "a2HO9CNVGeUt"
      },
      "outputs": [],
      "source": [
        "def differential_A_sigma(u, tau, theta, sigma, rho, kappa):\n",
        "    beta = beta_function(u, tau, sigma, rho, kappa)\n",
        "    d = d_function(u, tau, sigma, rho, kappa)\n",
        "    g = g_function(u, tau, sigma, rho, kappa)\n",
        "    A_u = A_function(u, tau, theta, sigma, rho, kappa)\n",
        "    diff_ln_sigma = differential_ln_sigma(u, tau, sigma, rho, kappa)\n",
        "    alpha_hat = alpha_hat_function(u)\n",
        "\n",
        "    res = -2*A_u/sigma + kappa*theta/(sigma**2)*(-1j*u*tau*rho+tau*(1j*u*rho*beta+2*alpha_hat*sigma)/d - 2*diff_ln_sigma)\n",
        "    return res "
      ]
    },
    {
      "cell_type": "code",
      "execution_count": null,
      "metadata": {
        "id": "p5dZDW1moCcc"
      },
      "outputs": [],
      "source": [
        "def differential_quotient_sigma(u, tau, sigma, rho, kappa):\n",
        "    beta = beta_function(u, tau, sigma, rho, kappa)\n",
        "    d = d_function(u, tau, sigma, rho, kappa)\n",
        "    g = g_function(u, tau, sigma, rho, kappa)\n",
        "    alpha_hat = alpha_hat_function(u)\n",
        "\n",
        "    res = ((np.exp(-d*tau)*(1j*u*rho*beta+2*alpha_hat*sigma))*(-tau*((beta+d)**2)*(1-g*np.exp(-d*tau))+(1-np.exp(-d*tau))*(2*beta+tau*g*((beta+d)**2)))\n",
        "     - 2j*u*rho*(d**2)*np.exp(-d*tau)*(1-np.exp(-d*tau))) / (d*((beta+d)**2)*((1-g*np.exp(-d*tau))**2))\n",
        "    return res"
      ]
    },
    {
      "cell_type": "code",
      "execution_count": null,
      "metadata": {
        "id": "bMJxvhurG0vf"
      },
      "outputs": [],
      "source": [
        "def differential_B_sigma(u, tau, sigma, rho, kappa):\n",
        "    beta = beta_function(u, tau, sigma, rho, kappa)\n",
        "    d = d_function(u, tau, sigma, rho, kappa)\n",
        "    g = g_function(u, tau, sigma, rho, kappa)\n",
        "    alpha_hat = alpha_hat_function(u)\n",
        "    \n",
        "    diff_quot_sigma = differential_quotient_sigma(u, tau, sigma, rho, kappa)\n",
        "    res = ((1-np.exp(-d*tau))*(sigma*(-1j*u*rho*d+1j*u*rho*beta+2*alpha_hat*sigma)-2*d*(beta-d))) / (d*(sigma**3)*(1-g*np.exp(-d*tau))) + (beta-d)/(sigma**2)*diff_quot_sigma\n",
        "    return res"
      ]
    },
    {
      "cell_type": "code",
      "execution_count": null,
      "metadata": {
        "id": "HI4h5-NhGVP2"
      },
      "outputs": [],
      "source": [
        "def differential_phi_sigma(u, tau, theta, sigma, rho, kappa, v0):\n",
        "    return heston_charact_funct(u, tau, theta, sigma, rho, kappa, v0) * (differential_A_sigma(u, tau, theta, sigma, rho, kappa) +\n",
        "                                                                         v0 * differential_B_sigma(u, tau, sigma, rho, kappa))"
      ]
    },
    {
      "cell_type": "code",
      "execution_count": null,
      "metadata": {
        "id": "M2gbrjccF_ta"
      },
      "outputs": [],
      "source": [
        "def differential_wrt_sigma(lm, r, tau, theta, sigma, rho, kappa, v0):  \n",
        "    m = lm + r*tau  #log-moneyness forward      \n",
        "    integrand = (lambda u: \n",
        "        np.real(np.exp((1j*u + 0.5)*m) * differential_phi_sigma(u - 0.5j, tau, theta, sigma, rho, kappa, v0))/(u**2 + 0.25))\n",
        "\n",
        "    integ, err = quad_vec(integrand, 0, np.inf)\n",
        "    return (-1/np.pi) * integ   "
      ]
    },
    {
      "cell_type": "code",
      "execution_count": null,
      "metadata": {
        "id": "r3LE8OWFgzc6"
      },
      "outputs": [],
      "source": [
        "def test_differential_wrt_sigma():    \n",
        "    delta_sigma = 0.00000001\n",
        "    sigma0 = 0.7\n",
        "    p_hat_deltasigmaplussigma0 = norm_forw_put_price(lm=1., r=0.03, tau=5., theta=0.7,  sigma=delta_sigma+sigma0, rho=-0.6, kappa=0.15, v0=0.25)\n",
        "    p_hat_sigma0 = norm_forw_put_price(lm=1., r=0.03, tau=5., theta=0.7,  sigma=sigma0, rho=-0.6, kappa=0.15, v0=0.25)\n",
        "\n",
        "    differential_formula = differential_wrt_sigma(lm=1., r=0.03, tau=5., theta=0.7, sigma=0.7, rho=-0.6, kappa=0.15, v0=0.25)\n",
        "    differential_finite_difference = (p_hat_deltasigmaplussigma0 - p_hat_sigma0)/delta_sigma\n",
        "    \n",
        "    np.testing.assert_almost_equal(differential_formula, differential_finite_difference, decimal=8, err_msg='', verbose=True)   \n",
        "\n",
        "test_differential_wrt_sigma()"
      ]
    },
    {
      "cell_type": "markdown",
      "metadata": {
        "id": "kmYXMce5CTja"
      },
      "source": [
        "## <Strong><font color='green'>3.8. $\\frac{\\partial \\hat{P}}{\\partial r}$ </font></Strong>"
      ]
    },
    {
      "cell_type": "code",
      "execution_count": null,
      "metadata": {
        "id": "XKS1yWM5Cg6X"
      },
      "outputs": [],
      "source": [
        "def differential_wrt_r(lm, r, tau, theta, sigma, rho, kappa, v0):\n",
        "    diff_wrt_lm = differential_wrt_lm(lm, r, tau, theta, sigma, rho, kappa, v0)\n",
        "    return tau * diff_wrt_lm"
      ]
    },
    {
      "cell_type": "code",
      "execution_count": null,
      "metadata": {
        "id": "91Ni3A9TCdTb"
      },
      "outputs": [],
      "source": [
        "def test_differential_wrt_r():\n",
        "    delta_r = 0.00000001\n",
        "    r0 = 0.03\n",
        "    p_hat_deltarplusr0 = norm_forw_put_price(lm=1., r=delta_r+r0, tau=5., theta=0.7,  sigma=0.7, rho=-0.6, kappa=0.15, v0=0.25)\n",
        "    p_hat_r0 = norm_forw_put_price(lm=1., r=r0, tau=5., theta=0.7,  sigma=0.7, rho=-0.6, kappa=0.15, v0=0.25)\n",
        "\n",
        "    differential_formula = differential_wrt_r(lm=1., r=0.03, tau=5., theta=0.7, sigma=0.7, rho=-0.6, kappa=0.15, v0=0.25)\n",
        "    differential_finite_difference = (p_hat_deltarplusr0 - p_hat_r0)/delta_r\n",
        "\n",
        "    np.testing.assert_almost_equal(differential_formula, differential_finite_difference, decimal=8, err_msg='', verbose=True)   \n",
        "\n",
        "test_differential_wrt_r()    "
      ]
    },
    {
      "cell_type": "markdown",
      "metadata": {
        "id": "yRuQW4XtPXsK"
      },
      "source": [
        "# <strong> 4. Data generation </strong>"
      ]
    },
    {
      "cell_type": "markdown",
      "metadata": {
        "id": "EKp5XWuYJE2U"
      },
      "source": [
        "## <Strong><font color='green'> 4.1. Inputs generation </font></Strong> "
      ]
    },
    {
      "cell_type": "markdown",
      "metadata": {
        "id": "4nvKGodrPsJH"
      },
      "source": [
        "####Latin Hypercube Sampling\n",
        "\n",
        "$\\theta$, $\\sigma$, $\\kappa$, $\\rho$ parameters, $v_0$, Log moneyness $lm=\\ln(S_0/K)$, the time to maturity $\\tau$ and $r$ will be sampled via Latin Hypercube Sampling (LHS) technique. \n",
        "\n",
        "In the following, we will use two modules to perform the LHS: *scipy.stats.qmc* and *smt.sampling_methods.LHS*. We will calculate the exact time every program takes to sample 10 points and keep the one with less time to generate the inputs."
      ]
    },
    {
      "cell_type": "code",
      "execution_count": null,
      "metadata": {
        "colab": {
          "base_uri": "https://localhost:8080/"
        },
        "id": "EaiNoZTKpGnU",
        "outputId": "8c2a8931-bea0-41cd-be94-2abf69569004"
      },
      "outputs": [
        {
          "output_type": "stream",
          "name": "stdout",
          "text": [
            "The exact time  the program takes to finish running: 0.0020979999999966026 seconds \n"
          ]
        },
        {
          "output_type": "stream",
          "name": "stderr",
          "text": [
            "/usr/local/lib/python3.7/dist-packages/ipykernel_launcher.py:5: DeprecationWarning: time.clock has been deprecated in Python 3.3 and will be removed from Python 3.8: use time.perf_counter or time.process_time instead\n",
            "  \"\"\"\n",
            "/usr/local/lib/python3.7/dist-packages/ipykernel_launcher.py:13: DeprecationWarning: time.clock has been deprecated in Python 3.3 and will be removed from Python 3.8: use time.perf_counter or time.process_time instead\n",
            "  del sys.path[0]\n"
          ]
        }
      ],
      "source": [
        "# LHS using smt.sampling_methods.LHS\n",
        "\n",
        "# A sample consists of a row in the form (lm, r, tau, theta, sigma, rho, kappa, v0)\n",
        "\n",
        "start_time = time.clock()\n",
        "\n",
        "bounds = np.array([[-2.,2.], [-0.01,0.10], [0.05,20], [0.0,1.], [0.1,2.], [-0.90,0.0], [0.005,3.], [0.,1.]])\n",
        "sampling = LHS(xlimits=bounds, random_state=42)\n",
        "\n",
        "n_samples = 10\n",
        "samples = sampling(n_samples)\n",
        "\n",
        "print(\"The exact time  the program takes to finish running: %s seconds \" % (time.clock() - start_time))\n",
        "#print(samples)"
      ]
    },
    {
      "cell_type": "code",
      "execution_count": null,
      "metadata": {
        "colab": {
          "base_uri": "https://localhost:8080/"
        },
        "id": "leJ3aXbc0QVm",
        "outputId": "d13940f0-b499-4a70-a243-d8c8f52ccd8a"
      },
      "outputs": [
        {
          "output_type": "stream",
          "name": "stdout",
          "text": [
            "The exact time  the program takes to finish running: 0.0017220000000008895 seconds \n"
          ]
        },
        {
          "output_type": "stream",
          "name": "stderr",
          "text": [
            "/usr/local/lib/python3.7/dist-packages/ipykernel_launcher.py:4: DeprecationWarning: time.clock has been deprecated in Python 3.3 and will be removed from Python 3.8: use time.perf_counter or time.process_time instead\n",
            "  after removing the cwd from sys.path.\n",
            "/usr/local/lib/python3.7/dist-packages/ipykernel_launcher.py:13: DeprecationWarning: time.clock has been deprecated in Python 3.3 and will be removed from Python 3.8: use time.perf_counter or time.process_time instead\n",
            "  del sys.path[0]\n"
          ]
        }
      ],
      "source": [
        "# LHS using scipy.stats.qmc\n",
        "# A sample consists of a row in the form (lm, r, tau, theta, sigma, rho, kappa, v0)\n",
        "\n",
        "start_time = time.clock()  \n",
        "\n",
        "sampler = qmc.LatinHypercube(d=8, seed=42) # 6 variables\n",
        "samples = sampler.random(n=10) # n samples\n",
        "\n",
        "lower_bounds = [-2., -0.01, 0.05, 0.0, 0.1, -0.90, 0.005, 0.] \n",
        "upper_bounds = [2., 0.10, 20., 1.0, 2., 0.0, 3., 1.]\n",
        "inputs_array = qmc.scale(samples, lower_bounds, upper_bounds)\n",
        "\n",
        "print(\"The exact time  the program takes to finish running: %s seconds \" % (time.clock() - start_time))\n",
        "#print(inputs_array)"
      ]
    },
    {
      "cell_type": "markdown",
      "metadata": {
        "id": "dFsjsO8EergL"
      },
      "source": [
        "Note that *scipy.stats.qmc* module takes less time than *smt.sampling_methods.LHS*, therefore, inputs generation will be performed using *scipy.stats.qmc* module. "
      ]
    },
    {
      "cell_type": "markdown",
      "metadata": {
        "id": "rub4cM30Vi5y"
      },
      "source": [
        "We will generate 100 000 (100K) samples. "
      ]
    },
    {
      "cell_type": "code",
      "execution_count": null,
      "metadata": {
        "id": "JCXEQWPla12V"
      },
      "outputs": [],
      "source": [
        "def generate_inputs(d, n, lower_bounds, upper_bounds, feller=False):\n",
        "    \n",
        "    sampler = qmc.LatinHypercube(d, seed=42) # d variables    \n",
        "    samples = sampler.random(n) # n samples\n",
        "    inputs_array = qmc.scale(samples, lower_bounds, upper_bounds)\n",
        "    \n",
        "    if feller:\n",
        "        #Selecting samples that satisfy the Feller condition        \n",
        "        inputs_array = inputs_array[np.where(2*inputs_array[:,6]*inputs_array[:,3] > (inputs_array[:,4])**2)]\n",
        "\n",
        "    return inputs_array"
      ]
    },
    {
      "cell_type": "markdown",
      "metadata": {
        "id": "vBTRjev2h4Oi"
      },
      "source": [
        "## <Strong><font color='green'> 4.2. Labels and their differentials w.r.t inputs generation </font></Strong> "
      ]
    },
    {
      "cell_type": "code",
      "execution_count": null,
      "metadata": {
        "id": "UrP-REeCcTqi"
      },
      "outputs": [],
      "source": [
        "def generate_labels_difflabels(inputs_array):\n",
        "    start_time = time.clock()\n",
        "\n",
        "    # array containing labels and its differentials\n",
        "    labels_difflabels_array = np.zeros((inputs_array.shape[0],inputs_array.shape[1]+1))\n",
        "\n",
        "    for row in range(inputs_array.shape[0]):\n",
        "\n",
        "        lm = inputs_array[row][0] \n",
        "        r = inputs_array[row][1]\n",
        "        tau = inputs_array[row][2]\n",
        "        theta = inputs_array[row][3]\n",
        "        sigma = inputs_array[row][4]\n",
        "        rho = inputs_array[row][5]      \n",
        "        kappa = inputs_array[row][6]\n",
        "        v0 = inputs_array[row][7]    \n",
        "\n",
        "        p_hat = norm_forw_put_price(lm, r, tau, theta,sigma, rho, kappa, v0)\n",
        "        diff_wrt_lm = differential_wrt_lm(lm, r, tau, theta,sigma, rho, kappa, v0)\n",
        "        diff_wrt_r = differential_wrt_r(lm, r, tau, theta,sigma, rho, kappa, v0)\n",
        "        diff_wrt_tau = differential_wrt_tau(lm, r, tau, theta,sigma, rho, kappa, v0)\n",
        "        diff_wrt_theta = differential_wrt_theta(lm, r, tau, theta,sigma, rho, kappa, v0)\n",
        "        diff_wrt_sigma = differential_wrt_sigma(lm, r, tau, theta,sigma, rho, kappa, v0)\n",
        "        diff_wrt_rho = differential_wrt_rho(lm, r, tau, theta,sigma, rho, kappa, v0)  \n",
        "        diff_wrt_kappa = differential_wrt_kappa(lm, r, tau, theta,sigma, rho, kappa, v0)    \n",
        "        diff_wrt_v0 = differential_wrt_v0(lm, r, tau, theta,sigma, rho, kappa, v0)             \n",
        "\n",
        "        labels_difflabels_array[row][0] = p_hat \n",
        "        labels_difflabels_array[row][1] = diff_wrt_lm\n",
        "        labels_difflabels_array[row][2] = diff_wrt_r\n",
        "        labels_difflabels_array[row][3] = diff_wrt_tau\n",
        "        labels_difflabels_array[row][4] = diff_wrt_theta\n",
        "        labels_difflabels_array[row][5] = diff_wrt_sigma\n",
        "        labels_difflabels_array[row][6] = diff_wrt_rho\n",
        "        labels_difflabels_array[row][7] = diff_wrt_kappa\n",
        "        labels_difflabels_array[row][8] = diff_wrt_v0          \n",
        "\n",
        "    print(\"The exact time  the program takes to finish running:\", time.strftime('%H:%M:%S', time.gmtime(time.clock() - start_time))) \n",
        "    return labels_difflabels_array\n"
      ]
    },
    {
      "cell_type": "markdown",
      "metadata": {
        "id": "fmXWczJXajK-"
      },
      "source": [
        "## <Strong><font color='green'> 4.3. Dataset generation </font></Strong> "
      ]
    },
    {
      "cell_type": "code",
      "execution_count": null,
      "metadata": {
        "id": "jd6hmhGokYbQ"
      },
      "outputs": [],
      "source": [
        "def generate_data(d, n, lower_bounds, upper_bounds, feller, first_samples=100000):\n",
        "\n",
        "    inputs_array = generate_inputs(d, n, lower_bounds, upper_bounds, feller)\n",
        "    if feller:\n",
        "        #extract first 100000 samples\n",
        "        #inputs_array=inputs_array[0:100000, :]\n",
        "        inputs_array=inputs_array[0:first_samples, :]\n",
        "\n",
        "    labels_difflabels_array = generate_labels_difflabels(inputs_array)\n",
        "\n",
        "     \n",
        "    # Convert the inputs array to a dataframe\n",
        "    df_inputs = pd.DataFrame(inputs_array, columns=['lm', 'r', 'tau', 'theta', 'sigma', 'rho', 'kappa', 'v0'])\n",
        "\n",
        "    # Convert the array containing labels and its differentials to a dataframe\n",
        "    df_labels_difflabels = pd.DataFrame(labels_difflabels_array, columns=[\"p_hat\", \"diff wrt lm\", \"diff wrt r\", \"diff wrt tau\", \"diff wrt theta\",\n",
        "                                                \"diff wrt sigma\", \"diff wrt rho\", \"diff wrt kappa\", \"diff wrt v0\"])\n",
        "    # put the whole data into a dataframe\n",
        "    df_dataset = pd.concat([df_inputs, df_labels_difflabels], axis=1)     \n",
        "    \n",
        "        \n",
        "    return df_dataset"
      ]
    },
    {
      "cell_type": "markdown",
      "metadata": {
        "id": "7ZqBZ36Gri13"
      },
      "source": [
        "### 4.3.1 Data generation when the Feller condition is breached\n",
        "\n",
        "The following algorithm takes 10 hours, 34 minutes and 24 seconds."
      ]
    },
    {
      "cell_type": "code",
      "execution_count": null,
      "metadata": {
        "id": "Yg-ko8rfrpZG"
      },
      "outputs": [],
      "source": [
        "# A sample consists of a row in the form (lm, r, tau, theta, sigma, rho, kappa, v0)\n",
        "#lower_bounds = [-2., -0.01, 0.05, 0.0, 0.1, -0.90, 0.005, 0.] \n",
        "#upper_bounds = [2., 0.10, 20., 1.0, 2., 0.0, 3., 1.]\n",
        "\n",
        "df_nofeller = generate_data(d=8, n=100000,                                      \n",
        "                                     lower_bounds=[-2., -0.01, 0.05, 0.0, 0.1, -0.90, 0.005, 0.], \n",
        "                                     upper_bounds=[2., 0.10, 20., 1.0, 2., 0.0, 3., 1.],\n",
        "                                     feller=False)\n",
        "\n",
        "# # Saving datasets into CSV files\n",
        "df_nofeller.to_csv('dataset_100K_nofeller.csv', sep=',', index=False)\n",
        "files.download('dataset_100K_nofeller.csv') "
      ]
    },
    {
      "cell_type": "markdown",
      "metadata": {
        "id": "mVSFeIPKsKs3"
      },
      "source": [
        "### 4.3.2 Data generation when the Feller condition is satisfied \n",
        "\n",
        "The following algorithm takes 9 hours, 14 minutes and 51 seconds."
      ]
    },
    {
      "cell_type": "code",
      "execution_count": null,
      "metadata": {
        "id": "Gi57hAmlsKs3"
      },
      "outputs": [],
      "source": [
        "# A sample consists of a row in the form (lm, r, tau, theta, sigma, rho, kappa, v0)\n",
        "#lower_bounds = [-2., -0.01, 0.05, 0.0, 0.1, -0.90, 0.005, 0.] \n",
        "#upper_bounds = [2., 0.10, 20., 1.0, 2., 0.0, 3., 1.]\n",
        "\n",
        "df_feller = generate_data(d=8, n=100000, \n",
        "                                   lower_bounds=[-2., -0.01, 0.05, 0.0, 0.1, -0.90, 0.005, 0.], \n",
        "                                   upper_bounds=[2., 0.10, 20., 1.0, 2., 0.0, 3., 1.],\n",
        "                                   feller=True)\n",
        "\n",
        "# # Saving datasets into CSV files\n",
        "df_feller.to_csv('dataset_100K_feller.csv', sep=',', index=False)\n",
        "files.download('dataset_100K_feller.csv')  \n"
      ]
    },
    {
      "cell_type": "markdown",
      "metadata": {
        "id": "XeLZt6eRHUg8"
      },
      "source": [
        "### 4.3.3 Check that the samples in the dataframe *df_feller* satisfy the Feller condition"
      ]
    },
    {
      "cell_type": "code",
      "execution_count": null,
      "metadata": {
        "id": "4OcHSxHvQsAT"
      },
      "outputs": [],
      "source": [
        "def test_generate_data():    \n",
        "\n",
        "    df_feller = df_nofeller[2*df_nofeller['kappa']*\n",
        "                                              df_nofeller['theta'] > (df_nofeller['sigma'])**2]\n",
        "    df_feller = df_feller.reset_index(drop=True)\n",
        "    assert df_feller.equals(df_feller) == True\n",
        "\n",
        "test_generate_data()    "
      ]
    }
  ],
  "metadata": {
    "colab": {
      "collapsed_sections": [],
      "name": "DataGeneration.ipynb",
      "provenance": []
    },
    "kernelspec": {
      "display_name": "Python 3",
      "name": "python3"
    },
    "language_info": {
      "name": "python"
    }
  },
  "nbformat": 4,
  "nbformat_minor": 0
}